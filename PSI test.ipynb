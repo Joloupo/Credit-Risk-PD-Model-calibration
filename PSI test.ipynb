{
 "cells": [
  {
   "cell_type": "code",
   "execution_count": null,
   "id": "93cbae6d",
   "metadata": {},
   "outputs": [],
   "source": [
    "import pandas as pd\n",
    "import numpy as np"
   ]
  },
  {
   "cell_type": "code",
   "execution_count": null,
   "id": "baef8f00",
   "metadata": {},
   "outputs": [],
   "source": [
    "df_original = pd.read_csv(r'rating_observacoes_2010_2023.csv')"
   ]
  },
  {
   "cell_type": "code",
   "execution_count": null,
   "id": "14a95473",
   "metadata": {},
   "outputs": [],
   "source": [
    "df = df_original.copy()"
   ]
  },
  {
   "cell_type": "code",
   "execution_count": null,
   "id": "0493d676",
   "metadata": {},
   "outputs": [],
   "source": [
    "mes_map = {\n",
    "    \"janeiro\": \"01\",\n",
    "    \"fevereiro\": \"02\",\n",
    "    \"março\": \"03\",\n",
    "    \"abril\": \"04\",\n",
    "    \"maio\": \"05\",\n",
    "    \"junho\": \"06\",\n",
    "    \"julho\": \"07\",\n",
    "    \"agosto\": \"08\",\n",
    "    \"setembro\": \"09\",\n",
    "    \"outubro\": \"10\",\n",
    "    \"novembro\": \"11\",\n",
    "    \"dezembro\": \"12\"\n",
    "}\n",
    "\n",
    "df['mes'] = df['mes'].replace(mes_map)"
   ]
  },
  {
   "cell_type": "code",
   "execution_count": null,
   "id": "8ea5fa09",
   "metadata": {},
   "outputs": [],
   "source": [
    "df['mes'] = df['mes'].str.capitalize()  # Garantir nomes consistentes\n",
    "\n",
    "# Agrupar por ano e mês\n",
    "df['mes_ano'] = df['ano'].astype(str) + df['mes']\n",
    "\n",
    "total_por_mes = df.groupby('mes_ano')['num_observacoes'].transform('sum')\n",
    "\n",
    "df['proporcao'] = df['num_observacoes'] / total_por_mes\n"
   ]
  },
  {
   "cell_type": "code",
   "execution_count": null,
   "id": "a7e14cf8",
   "metadata": {},
   "outputs": [],
   "source": [
    "# Calcular o PSI entre dois meses mas temos de especificar o ano, por exemplo janeiro de 2010 com fevereiro de 2010\n",
    "\n",
    "def calculate_psi_categorical(df, mes_base, mes_comp):\n",
    "    base = df[df['mes_ano'] == mes_base].set_index('rating')['proporcao']\n",
    "    comp = df[df['mes_ano'] == mes_comp].set_index('rating')['proporcao']\n",
    "    \n",
    "    # Alinhar índices (caso ratings não estejam todos presentes em ambos os meses)\n",
    "    all_ratings = base.index.union(comp.index)\n",
    "    base = base.reindex(all_ratings, fill_value=0.0001)\n",
    "    comp = comp.reindex(all_ratings, fill_value=0.0001)\n",
    "    \n",
    "    psi = np.sum((base - comp) * np.log(base / comp))\n",
    "    return psi"
   ]
  },
  {
   "cell_type": "code",
   "execution_count": null,
   "id": "613d3a66",
   "metadata": {},
   "outputs": [],
   "source": [
    "# Overlapping\n",
    "# Somar todos os janeiros e fevereiros independentemente do ano, ou seja compara todos os janeiros com todos os fevereiros\n",
    "jan_total = df[df['mes'] == '01'].groupby('rating')['num_observacoes'].sum()\n",
    "fev_total = df[df['mes'] == '02'].groupby('rating')['num_observacoes'].sum()\n",
    "\n",
    "df_jan_fev = pd.concat([\n",
    "    jan_total.rename('jan'),\n",
    "    fev_total.rename('fev')\n",
    "], axis=1).fillna(0.0001)\n",
    "\n",
    "df_jan_fev['p_jan'] = df_jan_fev['jan'] / df_jan_fev['jan'].sum()\n",
    "df_jan_fev['p_fev'] = df_jan_fev['fev'] / df_jan_fev['fev'].sum()\n",
    "\n",
    "psi = np.sum((df_jan_fev['p_jan'] - df_jan_fev['p_fev']) * np.log(df_jan_fev['p_jan'] / df_jan_fev['p_fev']))\n",
    "print(f\"PSI Janeiro vs Fevereiro: {psi:.4f}\")\n"
   ]
  },
  {
   "cell_type": "code",
   "execution_count": null,
   "id": "4e7c92d0",
   "metadata": {},
   "outputs": [],
   "source": [
    "# Non Overlapping\n",
    "# Compara janeiro com os outros meses todos\n",
    "meses = ['02', '03', '04', '05', '06', '07', '08', '09', '10', '11', '12']\n",
    "\n",
    "resultados = []\n",
    "\n",
    "for mes in meses:\n",
    "    ref = df[df['mes'] == '01'].groupby('rating')['num_observacoes'].sum()\n",
    "    comp = df[df['mes'] == mes].groupby('rating')['num_observacoes'].sum()\n",
    "    \n",
    "    tmp = pd.concat([ref.rename('jan'), comp.rename('outro')], axis=1).fillna(0.0001)\n",
    "    tmp['p_jan'] = tmp['jan'] / tmp['jan'].sum()\n",
    "    tmp['p_outro'] = tmp['outro'] / tmp['outro'].sum()\n",
    "    \n",
    "    psi_val = np.sum((tmp['p_jan'] - tmp['p_outro']) * np.log(tmp['p_jan'] / tmp['p_outro']))\n",
    "    resultados.append({'mes_comparado': mes, 'psi': psi_val})\n",
    "\n",
    "psi_df = pd.DataFrame(resultados)\n",
    "print(psi_df)\n"
   ]
  },
  {
   "cell_type": "code",
   "execution_count": null,
   "id": "36a7121a",
   "metadata": {},
   "outputs": [],
   "source": [
    "# Non Overlapping\n",
    "# Calcular o PSI(jan2010, feb2010), PSI(jan2011, feb2011), ..., PSI(jan2023, feb2023)\n",
    "#            PSI(jan2010, mar2010), PSI(jan2011, mar2011), ..., PSI(jan2023, mar2023)\n",
    "#            PSI(jan2010, apr2010), PSI(jan2011, apr2011), ..., PSI(jan2023, apr2023)\n",
    "#            PSI(jan2010, may2010), PSI(jan2011, may2011), ..., PSI(jan2023, may2023)\n",
    "#            PSI(jan2010, jun2010), PSI(jan2011, jun2011), ..., PSI(jan2023, jun2023)\n",
    "#            PSI(jan2010, jul2010), PSI(jan2011, jul2011), ..., PSI(jan2023, jul2023)\n",
    "#            PSI(jan2010, aug2010), PSI(jan2011, aug2011), ..., PSI(jan2023, aug2023)\n",
    "#            PSI(jan2010, sep2010), PSI(jan2011, sep2011), ..., PSI(jan2023, sep2023)\n",
    "#            PSI(jan2010, oct2010), PSI(jan2011, oct2011), ..., PSI(oct2023, oct2023)\n",
    "#            PSI(jan2010, nov2010), PSI(jan2011, nov2011), ..., PSI(jan2023, nov2023)\n",
    "#            PSI(jan2010, dec2010), PSI(jan2011, dec2011), ..., PSI(jan2023, dec2023)\n",
    "\n",
    "# Fazer o mesmo para os outros meses: \n",
    "# feb vs all months, \n",
    "# mar vs all months, \n",
    "# apr vs all months,\n",
    "# may vs all months,\n",
    "#...\n",
    "\n",
    "# Overlapping\n",
    "# Calcular o PSI(jan, feb)\n",
    "#            PSI(feb, mar)\n",
    "#            PSI(mar, apr)\n",
    "#            PSI(apr, may)\n",
    "#            PSI(may, jun)\n",
    "#            PSI(jun, jul)\n",
    "#            PSI(jul, aug)\n",
    "#            PSI(aug, sep)\n",
    "#            PSI(sep, oct)\n",
    "#            PSI(oct, nov)\n",
    "#            PSI(nov, dec)"
   ]
  }
 ],
 "metadata": {
  "kernelspec": {
   "display_name": "myenv",
   "language": "python",
   "name": "python3"
  },
  "language_info": {
   "codemirror_mode": {
    "name": "ipython",
    "version": 3
   },
   "file_extension": ".py",
   "mimetype": "text/x-python",
   "name": "python",
   "nbconvert_exporter": "python",
   "pygments_lexer": "ipython3",
   "version": "3.13.1"
  }
 },
 "nbformat": 4,
 "nbformat_minor": 5
}
